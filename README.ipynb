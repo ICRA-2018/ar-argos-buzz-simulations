{
 "cells": [
  {
   "cell_type": "markdown",
   "metadata": {},
   "source": [
    "# ar-argos-buzz-simulations\n",
    "<a href=\"#roslab-run\"><img src=\"https://img.shields.io/badge/ROSLab-run-brightgreen.svg\"></a>\n",
    "\n",
    "Buzz source code and ARGoS simulations\n",
    "\n",
    "for any question, please contact jacopo.panerati@polymtl.ca\n",
    "\n",
    "# ROSLab Run\n",
    "\n",
    "## Prerequisites:\n",
    "* [Docker](https://www.docker.com/)\n",
    "* [nvidia-docker](https://github.com/nvidia/nvidia-docker/wiki/Installation-(version-2.0))\n",
    "* Tested on Ubuntu Linux 16.04, Docker version 18.06.1-ce, NVIDIA Driver version 410.48.\n",
    "\n",
    "## 1. Clone the repository and build ROSLab image:"
   ]
  },
  {
   "cell_type": "code",
   "execution_count": null,
   "metadata": {},
   "outputs": [],
   "source": [
    "git clone https://github.com/ICRA-2018/ar-argos-buzz-simulations.git\n",
    "cd ar-argos-buzz-simulations\n",
    "./roslab_build"
   ]
  },
  {
   "cell_type": "markdown",
   "metadata": {},
   "source": [
    "## 2. Launch ROSLab image:"
   ]
  },
  {
   "cell_type": "code",
   "execution_count": null,
   "metadata": {},
   "outputs": [],
   "source": [
    "./roslab_run"
   ]
  },
  {
   "cell_type": "markdown",
   "metadata": {},
   "source": [
    "## 3. Open JupyterLab in your browser:\n",
    "[http://localhost:8888/lab/tree/README.ipynb](http://localhost:8888/lab/tree/README.ipynb)\n",
    "\n",
    "## 4. Run in JupyterLab:"
   ]
  },
  {
   "cell_type": "code",
   "execution_count": null,
   "metadata": {},
   "outputs": [],
   "source": [
    "bzzc rendez-vous.bzz\n",
    "argos3 -c rendez-vous.argos"
   ]
  },
  {
   "cell_type": "code",
   "execution_count": null,
   "metadata": {},
   "outputs": [],
   "source": [
    "bzzc rotating-prominence.bzz\n",
    "argos3 -c rotating-prominence.argos"
   ]
  },
  {
   "cell_type": "code",
   "execution_count": null,
   "metadata": {},
   "outputs": [],
   "source": [
    "bzzc thick-prominence.bzz\n",
    "argos3 -c thick-prominence.argos"
   ]
  },
  {
   "cell_type": "code",
   "execution_count": null,
   "metadata": {},
   "outputs": [],
   "source": [
    "bzzc thin-prominence.bzz\n",
    "argos3 -c thin-prominence.argos"
   ]
  },
  {
   "cell_type": "code",
   "execution_count": null,
   "metadata": {},
   "outputs": [],
   "source": [
    "bzzc tri-star.bzz\n",
    "argos3 -c tri-star.argos"
   ]
  }
 ],

 "metadata": {
  "kernelspec": {
   "display_name": "Bash",
   "language": "bash",
   "name": "bash"
  },
  "language_info": {
   "codemirror_mode": "shell",
   "file_extension": ".sh",
   "mimetype": "text/x-sh",
   "name": "bash"
  }
 },
 "nbformat": 4,
 "nbformat_minor": 2
}
