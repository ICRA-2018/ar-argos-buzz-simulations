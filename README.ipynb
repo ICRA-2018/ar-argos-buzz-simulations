{
 "cells": [
  {
   "cell_type": "markdown",
   "metadata": {},
   "source": [
    "# ar-argos-buzz-simulations\n",
    "Run any of the cells below and a simulator window will open."
   ]
  },
  {
   "cell_type": "code",
   "execution_count": null,
   "metadata": {},
   "outputs": [],
   "source": [
    "bzzc rendez-vous.bzz\n",
    "argos3 -c rendez-vous.argos"
   ]
  },
  {
   "cell_type": "code",
   "execution_count": null,
   "metadata": {},
   "outputs": [],
   "source": [
    "bzzc rotating-prominence.bzz\n",
    "argos3 -c rotating-prominence.argos"
   ]
  },
  {
   "cell_type": "code",
   "execution_count": null,
   "metadata": {},
   "outputs": [],
   "source": [
    "bzzc thick-prominence.bzz\n",
    "argos3 -c thick-prominence.argos"
   ]
  },
  {
   "cell_type": "code",
   "execution_count": null,
   "metadata": {},
   "outputs": [],
   "source": [
    "bzzc thin-prominence.bzz\n",
    "argos3 -c thin-prominence.argos"
   ]
  },
  {
   "cell_type": "code",
   "execution_count": null,
   "metadata": {},
   "outputs": [],
   "source": [
    "bzzc tri-star.bzz\n",
    "argos3 -c tri-star.argos"
   ]
  }
 ],
 "metadata": {
  "kernelspec": {
   "display_name": "Bash",
   "language": "bash",
   "name": "bash"
  },
  "language_info": {
   "codemirror_mode": "shell",
   "file_extension": ".sh",
   "mimetype": "text/x-sh",
   "name": "bash"
  }
 },
 "nbformat": 4,
 "nbformat_minor": 2
}

